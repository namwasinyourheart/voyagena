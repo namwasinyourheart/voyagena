{
 "cells": [
  {
   "cell_type": "code",
   "execution_count": 1,
   "metadata": {},
   "outputs": [],
   "source": [
    "import os\n",
    "from typing import TypedDict, Annotated, List, Literal"
   ]
  },
  {
   "cell_type": "code",
   "execution_count": 2,
   "metadata": {},
   "outputs": [],
   "source": [
    "from langchain_openai import ChatOpenAI\n",
    "from langchain.prompts import ChatPromptTemplate"
   ]
  },
  {
   "cell_type": "code",
   "execution_count": 3,
   "metadata": {},
   "outputs": [],
   "source": [
    "from langchain_core.messages import HumanMessage, AIMessage"
   ]
  },
  {
   "cell_type": "code",
   "execution_count": 4,
   "metadata": {},
   "outputs": [],
   "source": [
    "llm = ChatOpenAI(model='gpt-4o-mini')"
   ]
  },
  {
   "cell_type": "code",
   "execution_count": 5,
   "metadata": {},
   "outputs": [],
   "source": [
    "class PlannerState(TypedDict):\n",
    "    messages: Annotated[List[HumanMessage | AIMessage], \"The messages is in the conversation\"]\n",
    "    city: str\n",
    "    start_date: str\n",
    "    end_date: str\n",
    "    kind_of_trip: Literal[\"solo trip\", \"partner trip\", \"friendship trip\", \"family trip\"]\n",
    "    with_pets: bool\n",
    "    interests: List[str]\n",
    "    itinerary: str"
   ]
  },
  {
   "cell_type": "code",
   "execution_count": 6,
   "metadata": {},
   "outputs": [],
   "source": [
    "gen_itinerary_prompt_template = \"\"\"\n",
    "You are a helpful travel assistant. Your task is to create a day-by-day trip itinerary in markdown format based on user input. The user input includes city, start date, end date, kind of trip (solo, partner, friendship, or family), with pets or not, interests.\n",
    "The itinerary should be concise, include suggested activities for each day, and tailored to the user's preferences.\n",
    "Here is the user input:\n",
    "- City: {city}\n",
    "- Start date: {start_date}\n",
    "- End date: {end_date}\n",
    "- Kind of trip: {kind_of_trip}\n",
    "- With pets: {with_pets}\n",
    "- Interests: {interests}\n",
    "\n",
    "\"\"\"\n",
    "\n",
    "gen_itinerary_prompt = ChatPromptTemplate.from_template(gen_itinerary_prompt_template)"
   ]
  },
  {
   "cell_type": "code",
   "execution_count": 7,
   "metadata": {},
   "outputs": [],
   "source": [
    "def input_city(state: PlannerState) -> PlannerState:\n",
    "    print(\"Please enter the city you want to visit for your day trip:\")\n",
    "    city = input(\"City: \")\n",
    "    print(city)\n",
    "    \n",
    "    return {\n",
    "        **state,\n",
    "        \"city\": city,\n",
    "        \"messages\": state['messages'] + [HumanMessage(content=city)]\n",
    "    }"
   ]
  },
  {
   "cell_type": "code",
   "execution_count": 8,
   "metadata": {},
   "outputs": [],
   "source": [
    "def input_trip_dates(state: PlannerState) -> PlannerState:\n",
    "    print(\"Please enter your trip start date (DD-MM-YYYY):\", end = \" \")\n",
    "    start_date = input(\"Start Date: \")\n",
    "    print(start_date) \n",
    "\n",
    "    print(\"Please enter your trip end date (DD-MM-YYYY):\", end = \" \")\n",
    "    end_date = input(\"End Date: \")\n",
    "    print(end_date)\n",
    "    \n",
    "    return {\n",
    "        **state,\n",
    "        \"start_date\": start_date,\n",
    "        \"end_date\": end_date,\n",
    "        \"messages\": state['messages'] + [\n",
    "            HumanMessage(content=f\"Start Date: {start_date}\"),\n",
    "            HumanMessage(content=f\"End Date: {end_date}\")\n",
    "        ]\n",
    "    }\n",
    "\n",
    "def input_trip_type(state: PlannerState) -> PlannerState:\n",
    "    print(\"What type of trip are you planning? (Options: solo trip, partner trip, friendship trip, family trip)\")\n",
    "    trip_type = input(\"Your choice: \").strip().lower()\n",
    "    print(trip_type)\n",
    "    \n",
    "    if trip_type not in [\"solo trip\", \"partner trip\", \"friendship trip\", \"family trip\"]:\n",
    "        print(\"Invalid input. Please choose one of the available options.\")\n",
    "        return input_trip_type(state)\n",
    "    \n",
    "    return {\n",
    "        **state,\n",
    "        \"kind_of_trip\": trip_type,\n",
    "        \"messages\": state['messages'] + [HumanMessage(content=f\"Trip Type: {trip_type}\")]\n",
    "    }\n",
    "\n",
    "def input_with_pets(state: PlannerState) -> PlannerState:\n",
    "    print(\"Will you bring pets along? (yes/no):\")\n",
    "    user_response = input(\"Your response: \").strip().lower()\n",
    "    with_pets = user_response == \"yes\"\n",
    "    print(with_pets)\n",
    "    \n",
    "    return {\n",
    "        **state,\n",
    "        \"with_pets\": with_pets,\n",
    "        \"messages\": state['messages'] + [HumanMessage(content=f\"With Pets: {user_response}\")]\n",
    "    }\n",
    "\n",
    "def input_interests(state: PlannerState) -> PlannerState:\n",
    "    print(\"What are your interests for this trip? (e.g., food, history, adventure, nature):\")\n",
    "    interests = input(\"Your interests (comma-separated): \").strip().lower().split(\", \")\n",
    "    print(interests)\n",
    "    \n",
    "    return {\n",
    "        **state,\n",
    "        \"interests\": interests,\n",
    "        \"messages\": state['messages'] + [HumanMessage(content=f\"Interests: {', '.join(interests)}\")]\n",
    "    }\n",
    "\n",
    "\n",
    "def create_itinerary(state: PlannerState) -> PlannerState:\n",
    "    \n",
    "    # Format the prompt with user input.\n",
    "    prompt = gen_itinerary_prompt.format_prompt(\n",
    "        city=state['city'],\n",
    "        interests=', '.join(state['interests']),\n",
    "        start_date=state['start_date'],\n",
    "        end_date=state['end_date'],\n",
    "        kind_of_trip=state['kind_of_trip'],\n",
    "        with_pets=\"Yes\" if state['with_pets'] else \"No\"\n",
    "    )\n",
    "    \n",
    "    # Invoke the language model to generate the itinerary.\n",
    "    response = llm.invoke(prompt)\n",
    "    \n",
    "    print(\"\\nResponse:\")\n",
    "    print(response.content)\n",
    "    \n",
    "    return {\n",
    "        **state,\n",
    "        \"messages\": state['messages'] + [AIMessage(content=response.content)],\n",
    "        \"itinerary\": response.content\n",
    "    }\n"
   ]
  },
  {
   "cell_type": "code",
   "execution_count": 9,
   "metadata": {},
   "outputs": [],
   "source": [
    "from langgraph.graph import StateGraph, END\n",
    "from langchain_core.runnables.graph import MermaidDrawMethod"
   ]
  },
  {
   "cell_type": "code",
   "execution_count": 10,
   "metadata": {},
   "outputs": [],
   "source": [
    "workflow = StateGraph(PlannerState)"
   ]
  },
  {
   "cell_type": "code",
   "execution_count": 11,
   "metadata": {},
   "outputs": [
    {
     "data": {
      "text/plain": [
       "{'nodes': {},\n",
       " 'edges': set(),\n",
       " 'branches': defaultdict(dict, {}),\n",
       " 'support_multiple_edges': False,\n",
       " 'compiled': False,\n",
       " 'schemas': {__main__.PlannerState: {'messages': <langgraph.channels.last_value.LastValue at 0x27343357800>,\n",
       "   'city': <langgraph.channels.last_value.LastValue at 0x27342fd6740>,\n",
       "   'start_date': <langgraph.channels.last_value.LastValue at 0x27343181880>,\n",
       "   'end_date': <langgraph.channels.last_value.LastValue at 0x2734346d400>,\n",
       "   'kind_of_trip': <langgraph.channels.last_value.LastValue at 0x2734346d5c0>,\n",
       "   'with_pets': <langgraph.channels.last_value.LastValue at 0x2734346d480>,\n",
       "   'interests': <langgraph.channels.last_value.LastValue at 0x2734346d640>,\n",
       "   'itinerary': <langgraph.channels.last_value.LastValue at 0x2734346d600>}},\n",
       " 'channels': {'messages': <langgraph.channels.last_value.LastValue at 0x27343357800>,\n",
       "  'city': <langgraph.channels.last_value.LastValue at 0x27342fd6740>,\n",
       "  'start_date': <langgraph.channels.last_value.LastValue at 0x27343181880>,\n",
       "  'end_date': <langgraph.channels.last_value.LastValue at 0x2734346d400>,\n",
       "  'kind_of_trip': <langgraph.channels.last_value.LastValue at 0x2734346d5c0>,\n",
       "  'with_pets': <langgraph.channels.last_value.LastValue at 0x2734346d480>,\n",
       "  'interests': <langgraph.channels.last_value.LastValue at 0x2734346d640>,\n",
       "  'itinerary': <langgraph.channels.last_value.LastValue at 0x2734346d600>},\n",
       " 'managed': {},\n",
       " 'schema': __main__.PlannerState,\n",
       " 'input': __main__.PlannerState,\n",
       " 'output': __main__.PlannerState,\n",
       " 'config_schema': None,\n",
       " 'waiting_edges': set()}"
      ]
     },
     "execution_count": 11,
     "metadata": {},
     "output_type": "execute_result"
    }
   ],
   "source": [
    "workflow.__getstate__()"
   ]
  },
  {
   "cell_type": "code",
   "execution_count": 12,
   "metadata": {},
   "outputs": [
    {
     "data": {
      "text/plain": [
       "<langgraph.graph.state.StateGraph at 0x2734346d250>"
      ]
     },
     "execution_count": 12,
     "metadata": {},
     "output_type": "execute_result"
    }
   ],
   "source": [
    "workflow.add_node(\"input_city\", input_city)\n",
    "workflow.add_node(\"input_trip_dates\", input_trip_dates)\n",
    "workflow.add_node(\"input_trip_type\", input_trip_type)\n",
    "workflow.add_node(\"input_with_pets\", input_with_pets)\n",
    "workflow.add_node(\"input_interests\", input_interests)\n",
    "workflow.add_node(\"create_itinerary\", create_itinerary)\n"
   ]
  },
  {
   "cell_type": "code",
   "execution_count": 13,
   "metadata": {},
   "outputs": [
    {
     "data": {
      "text/plain": [
       "<langgraph.graph.state.StateGraph at 0x2734346d250>"
      ]
     },
     "execution_count": 13,
     "metadata": {},
     "output_type": "execute_result"
    }
   ],
   "source": [
    "workflow.set_entry_point(\"input_city\")\n",
    "workflow.add_edge(\"input_city\", \"input_trip_dates\")\n",
    "workflow.add_edge(\"input_trip_dates\", \"input_trip_type\")\n",
    "workflow.add_edge(\"input_trip_type\", \"input_with_pets\")\n",
    "workflow.add_edge(\"input_with_pets\", \"input_interests\")\n",
    "workflow.add_edge(\"input_interests\", \"create_itinerary\")\n",
    "workflow.add_edge(\"create_itinerary\", END)\n"
   ]
  },
  {
   "cell_type": "code",
   "execution_count": 14,
   "metadata": {},
   "outputs": [],
   "source": [
    "app = workflow.compile()"
   ]
  },
  {
   "cell_type": "code",
   "execution_count": 15,
   "metadata": {},
   "outputs": [],
   "source": [
    "from IPython.display import display, Image"
   ]
  },
  {
   "cell_type": "code",
   "execution_count": 16,
   "metadata": {},
   "outputs": [
    {
     "data": {
      "image/png": "[encoded data removed]",
      "text/plain": [
       "<IPython.core.display.Image object>"
      ]
     },
     "metadata": {},
     "output_type": "display_data"
    }
   ],
   "source": [
    "display(\n",
    "    Image(\n",
    "        app.get_graph().draw_mermaid_png(\n",
    "            draw_method=MermaidDrawMethod.API,\n",
    "        )\n",
    "    )\n",
    ")"
   ]
  },
  {
   "cell_type": "code",
   "execution_count": 17,
   "metadata": {},
   "outputs": [],
   "source": [
    "def run_travel_planner(user_request: str):\n",
    "    print(f\"Request: {user_request}\\n\")\n",
    "    \n",
    "    state = {\n",
    "        \"messages\": [HumanMessage(content=user_request)],\n",
    "        \"city\": \"\",\n",
    "        \"start_date\": \"\",\n",
    "        \"end_date\": \"\",\n",
    "        \"kind_of_trip\": \"\",\n",
    "        \"with_pets\": False,\n",
    "        \"interests\": [],\n",
    "        \"itinerary\": \"\",\n",
    "    }\n",
    "\n",
    "    # Stream through the workflow to process the user's input and generate an itinerary.\n",
    "    for output in app.stream(state):\n",
    "        pass\n",
    "\n"
   ]
  },
  {
   "cell_type": "code",
   "execution_count": 19,
   "metadata": {},
   "outputs": [
    {
     "name": "stdout",
     "output_type": "stream",
     "text": [
      "Request: Help me plan a trip\n",
      "\n",
      "Please enter the city you want to visit for your day trip:\n",
      "Danang\n",
      "Please enter your trip start date (DD-MM-YYYY): 23/12/2024\n",
      "Please enter your trip end date (DD-MM-YYYY): 25/12/2024\n",
      "What type of trip are you planning? (Options: solo trip, partner trip, friendship trip, family trip)\n",
      "solo trip\n",
      "Will you bring pets along? (yes/no):\n",
      "False\n",
      "What are your interests for this trip? (e.g., food, history, adventure, nature):\n",
      "['must-see attractions', 'great food']\n",
      "\n",
      "Response:\n",
      "# Danang Solo Trip Itinerary\n",
      "\n",
      "**Dates:** 23rd December 2024 - 25th December 2024  \n",
      "**City:** Danang  \n",
      "**Trip Type:** Solo  \n",
      "**Pets:** No  \n",
      "**Interests:** Must-see attractions, great food\n",
      "\n",
      "---\n",
      "\n",
      "## Day 1: Arrival and Exploring the City\n",
      "\n",
      "### **23rd December 2024**\n",
      "\n",
      "- **Morning:**\n",
      "  - Arrive in Danang and check into your accommodation.\n",
      "  - Enjoy breakfast at **Bánh Mì Phượng** for a delicious Vietnamese sandwich.\n",
      "\n",
      "- **Midday:**\n",
      "  - Visit the **Dragon Bridge** and take photos of this iconic landmark.\n",
      "  - Explore the **Han Market** for local crafts and fresh produce.\n",
      "\n",
      "- **Afternoon:**\n",
      "  - Lunch at **Mi Quang Ba Mua** for a taste of the local noodle dish.\n",
      "  - Head to **Marble Mountains** and hike up to enjoy the views and visit the caves.\n",
      "\n",
      "- **Evening:**\n",
      "  - Dinner at **Restaurant 33** for a mix of local and international dishes.\n",
      "  - Stroll along **My Khe Beach** and enjoy the sunset.\n",
      "\n",
      "---\n",
      "\n",
      "## Day 2: Culture and Culinary Delights\n",
      "\n",
      "### **24th December 2024**\n",
      "\n",
      "- **Morning:**\n",
      "  - Breakfast at your hotel or a nearby café.\n",
      "  - Visit the **Cham Museum** to learn about the rich history of the Cham civilization.\n",
      "\n",
      "- **Midday:**\n",
      "  - Enjoy lunch at **Bún Chả Cá 109**, famous for its fish noodle soup.\n",
      "  - Explore the **Son Tra Peninsula** and visit the **Lady Buddha** statue.\n",
      "\n",
      "- **Afternoon:**\n",
      "  - Relax at **Non Nuoc Beach** or take a short hike in the area.\n",
      "  \n",
      "- **Evening:**\n",
      "  - Dinner at **Sky36** for a stunning view of the city and great cuisine.\n",
      "  - Optional: Check out a local night market for snacks and souvenirs.\n",
      "\n",
      "---\n",
      "\n",
      "## Day 3: Nature and Departure\n",
      "\n",
      "### **25th December 2024**\n",
      "\n",
      "- **Morning:**\n",
      "  - Early breakfast at a local café.\n",
      "  - Take a day trip to **Ba Na Hills** to see the **Golden Bridge** and enjoy the views.\n",
      "\n",
      "- **Midday:**\n",
      "  - Have lunch at one of the restaurants in Ba Na Hills.\n",
      "  \n",
      "- **Afternoon:**\n",
      "  - Explore the gardens and attractions in Ba Na Hills.\n",
      "  - Return to Danang for any last-minute shopping or sightseeing.\n",
      "\n",
      "- **Evening:**\n",
      "  - Depart from Danang.\n",
      "\n",
      "---\n",
      "\n",
      "**Tips:**\n",
      "- Stay hydrated and try local specialties at every meal.\n",
      "- Use Grab or local taxis for convenient transport around the city.\n",
      "- Keep your camera ready to capture the beautiful landscapes and architecture!\n"
     ]
    }
   ],
   "source": [
    "user_request = \"Help me plan a trip\"\n",
    "run_travel_planner(user_request)"
   ]
  },
  {
   "cell_type": "code",
   "execution_count": null,
   "metadata": {},
   "outputs": [],
   "source": []
  }
 ],
 "metadata": {
  "kernelspec": {
   "display_name": "env-01",
   "language": "python",
   "name": "python3"
  },
  "language_info": {
   "codemirror_mode": {
    "name": "ipython",
    "version": 3
   },
   "file_extension": ".py",
   "mimetype": "text/x-python",
   "name": "python",
   "nbconvert_exporter": "python",
   "pygments_lexer": "ipython3",
   "version": "3.11.10"
  }
 },
 "nbformat": 4,
 "nbformat_minor": 2
}
