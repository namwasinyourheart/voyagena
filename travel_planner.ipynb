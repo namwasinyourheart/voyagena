{
 "cells": [
  {
   "cell_type": "code",
   "execution_count": 1,
   "metadata": {},
   "outputs": [
    {
     "data": {
      "text/plain": [
       "True"
      ]
     },
     "execution_count": 1,
     "metadata": {},
     "output_type": "execute_result"
    }
   ],
   "source": [
    "from dotenv import load_dotenv\n",
    "load_dotenv()"
   ]
  },
  {
   "cell_type": "code",
   "execution_count": 2,
   "metadata": {},
   "outputs": [],
   "source": [
    "from prompts import gen_itinerary_prompt\n",
    "from langchain_openai import OpenAIEmbeddings, ChatOpenAI\n",
    "from langchain_core.output_parsers import StrOutputParser\n",
    "\n",
    "from utils import input_samples\n",
    "\n",
    "def get_llm():\n",
    "    llm = ChatOpenAI(model=\"gpt-4o-mini\", temperature=0.3, max_tokens=1000)\n",
    "    return llm\n",
    "\n",
    "def get_embeddings():\n",
    "    embeddings = OpenAIEmbeddings()\n",
    "    return embeddings\n",
    "\n",
    "llm = get_llm()\n",
    "\n",
    "gen_itinerary_chain = gen_itinerary_prompt | llm | StrOutputParser()"
   ]
  },
  {
   "cell_type": "code",
   "execution_count": 3,
   "metadata": {},
   "outputs": [
    {
     "data": {
      "text/plain": [
       "{'city': 'Hanoi',\n",
       " 'trip_type': 'solo trip',\n",
       " 'with_pets': 'No',\n",
       " 'interests': ['must-see attraction',\n",
       "  'cultural landmarks',\n",
       "  'great food',\n",
       "  'hidden gems',\n",
       "  'shopping'],\n",
       " 'other_interests': 'Photography',\n",
       " 'duration': '4 days',\n",
       " 'start_date': '01/12/2025',\n",
       " 'end_date': '01/16/2025'}"
      ]
     },
     "execution_count": 3,
     "metadata": {},
     "output_type": "execute_result"
    }
   ],
   "source": [
    "input_samples[0]"
   ]
  },
  {
   "cell_type": "code",
   "execution_count": 4,
   "metadata": {},
   "outputs": [],
   "source": [
    "response = gen_itinerary_chain.invoke(input_samples[0])"
   ]
  },
  {
   "cell_type": "code",
   "execution_count": 5,
   "metadata": {},
   "outputs": [
    {
     "name": "stdout",
     "output_type": "stream",
     "text": [
      "```json\n",
      "[\n",
      "    {\n",
      "        \"day\": 1,\n",
      "        \"date\": \"01/12/2025\",\n",
      "        \"activities\": [\n",
      "            [\"Hoan Kiem Lake\", \"Arrive in Hanoi and take a leisurely stroll around Hoan Kiem Lake, capturing beautiful photos of the scenery.\"],\n",
      "            [\"Ngoc Son Temple\", \"Visit Ngoc Son Temple located on an island in the lake, a must-see cultural landmark.\"],\n",
      "            [\"Old Quarter\", \"Explore the Old Quarter, known for its narrow streets, vibrant atmosphere, and unique shops.\"],\n",
      "            [\"Street Food Tour\", \"Join a street food tour in the evening to taste local delicacies like Pho and Bun Cha.\"]\n",
      "        ]\n",
      "    },\n",
      "    {\n",
      "        \"day\": 2,\n",
      "        \"date\": \"01/13/2025\",\n",
      "        \"activities\": [\n",
      "            [\"Temple of Literature\", \"Visit the Temple of Literature, Vietnam's first university, and take photos of its stunning architecture.\"],\n",
      "            [\"Vietnam Museum of Ethnology\", \"Explore the Vietnam Museum of Ethnology to learn about the diverse cultures of Vietnam.\"],\n",
      "            [\"Lunch at Cha Ca Thang Long\", \"Enjoy lunch at Cha Ca Thang Long, famous for its grilled fish.\"],\n",
      "            [\"Shopping at Dong Xuan Market\", \"Spend the afternoon shopping at Dong Xuan Market for local crafts and souvenirs.\"],\n",
      "            [\"Water Puppet Show\", \"End the day with a traditional water puppet show, a unique cultural experience.\"]\n",
      "        ]\n",
      "    },\n",
      "    {\n",
      "        \"day\": 3,\n",
      "        \"date\": \"01/14/2025\",\n",
      "        \"activities\": [\n",
      "            [\"Ho Chi Minh Mausoleum\", \"Visit the Ho Chi Minh Mausoleum early in the morning to pay respects to the revolutionary leader.\"],\n",
      "            [\"One Pillar Pagoda\", \"Explore the One Pillar Pagoda, an iconic cultural landmark.\"],\n",
      "            [\"Lunch at Bun Thang\", \"Savor a bowl of Bun Thang, a traditional Hanoi noodle soup for lunch.\"],\n",
      "            [\"Explore West Lake\", \"Take a walk around West Lake, capturing beautiful sunset photos.\"],\n",
      "            [\"Dinner at KOTO\", \"Enjoy dinner at KOTO, a restaurant that supports disadvantaged youth, and try their famous spring rolls.\"]\n",
      "        ]\n",
      "    },\n",
      "    {\n",
      "        \"day\": 4,\n",
      "        \"date\": \"01/15/2025\",\n",
      "        \"activities\": [\n",
      "            [\"Thang Long Water Puppet Theatre\", \"Visit the Thang Long Water Puppet Theatre for a morning show.\"],\n",
      "            [\"Shopping at Hang Gai Street\", \"Spend some time shopping for silk products on Hang Gai Street.\"],\n",
      "            [\"Lunch at Pho Bat Dan\", \"Have lunch at Pho Bat Dan, known for its delicious Pho.\"],\n",
      "            [\"Explore the French Quarter\", \"Wander through the French Quarter to admire colonial architecture and take photos.\"],\n",
      "            [\"Departure\", \"Prepare for departure and reflect on your memorable trip.\"]\n",
      "        ]\n",
      "    }\n",
      "]\n",
      "```\n"
     ]
    }
   ],
   "source": [
    "print(response)"
   ]
  },
  {
   "cell_type": "code",
   "execution_count": 29,
   "metadata": {},
   "outputs": [],
   "source": [
    "def extract_itinerary(response: str):\n",
    "    import json\n",
    "    import re\n",
    "\n",
    "    match = re.search(r'```json(.*?)```', response, re.DOTALL)\n",
    "    if match:\n",
    "        itinerary_str = match.group(1).strip()\n",
    "        # print(itinerary_str)\n",
    "\n",
    "    itinerary_json = json.loads(itinerary_str)\n",
    "    # return {\"itinerary\": itinerary_str}\n",
    "    return itinerary_json"
   ]
  },
  {
   "cell_type": "code",
   "execution_count": 33,
   "metadata": {},
   "outputs": [
    {
     "data": {
      "text/plain": [
       "[{'day': 1,\n",
       "  'date': '01/12/2025',\n",
       "  'activities': [['Hoan Kiem Lake',\n",
       "    'Arrive in Hanoi and take a leisurely stroll around Hoan Kiem Lake, capturing beautiful photos of the scenery.'],\n",
       "   ['Ngoc Son Temple',\n",
       "    'Visit Ngoc Son Temple located on an island in the lake, a must-see cultural landmark.'],\n",
       "   ['Old Quarter',\n",
       "    'Explore the Old Quarter, known for its narrow streets, vibrant atmosphere, and unique shops.'],\n",
       "   ['Street Food Tour',\n",
       "    'Join a street food tour in the evening to taste local delicacies like Pho and Bun Cha.']]},\n",
       " {'day': 2,\n",
       "  'date': '01/13/2025',\n",
       "  'activities': [['Temple of Literature',\n",
       "    \"Visit the Temple of Literature, Vietnam's first university, and take photos of its stunning architecture.\"],\n",
       "   ['Vietnam Museum of Ethnology',\n",
       "    'Explore the Vietnam Museum of Ethnology to learn about the diverse cultures of Vietnam.'],\n",
       "   ['Lunch at Cha Ca Thang Long',\n",
       "    'Enjoy lunch at Cha Ca Thang Long, famous for its grilled fish.'],\n",
       "   ['Shopping at Dong Xuan Market',\n",
       "    'Spend the afternoon shopping at Dong Xuan Market for local crafts and souvenirs.'],\n",
       "   ['Water Puppet Show',\n",
       "    'End the day with a traditional water puppet show, a unique cultural experience.']]},\n",
       " {'day': 3,\n",
       "  'date': '01/14/2025',\n",
       "  'activities': [['Ho Chi Minh Mausoleum',\n",
       "    'Visit the Ho Chi Minh Mausoleum early in the morning to pay respects to the revolutionary leader.'],\n",
       "   ['One Pillar Pagoda',\n",
       "    'Explore the One Pillar Pagoda, an iconic cultural landmark.'],\n",
       "   ['Lunch at Bun Thang',\n",
       "    'Savor a bowl of Bun Thang, a traditional Hanoi noodle soup for lunch.'],\n",
       "   ['Explore West Lake',\n",
       "    'Take a walk around West Lake, capturing beautiful sunset photos.'],\n",
       "   ['Dinner at KOTO',\n",
       "    'Enjoy dinner at KOTO, a restaurant that supports disadvantaged youth, and try their famous spring rolls.']]},\n",
       " {'day': 4,\n",
       "  'date': '01/15/2025',\n",
       "  'activities': [['Thang Long Water Puppet Theatre',\n",
       "    'Visit the Thang Long Water Puppet Theatre for a morning show.'],\n",
       "   ['Shopping at Hang Gai Street',\n",
       "    'Spend some time shopping for silk products on Hang Gai Street.'],\n",
       "   ['Lunch at Pho Bat Dan',\n",
       "    'Have lunch at Pho Bat Dan, known for its delicious Pho.'],\n",
       "   ['Explore the French Quarter',\n",
       "    'Wander through the French Quarter to admire colonial architecture and take photos.'],\n",
       "   ['Departure',\n",
       "    'Prepare for departure and reflect on your memorable trip.']]}]"
      ]
     },
     "execution_count": 33,
     "metadata": {},
     "output_type": "execute_result"
    }
   ],
   "source": [
    "itinerary = extract_itinerary(response)\n",
    "itinerary"
   ]
  },
  {
   "cell_type": "code",
   "execution_count": 37,
   "metadata": {},
   "outputs": [],
   "source": [
    "from langchain_core.pydantic_v1 import BaseModel, Field, validator\n",
    "# from langchain.output_parsers import PydanticOutputParser\n",
    "from typing import List\n",
    "\n",
    "class Activity(BaseModel):\n",
    "    place: str\n",
    "    activity: str\n",
    "\n",
    "class DayPlan(BaseModel):\n",
    "    day: int\n",
    "    date: str\n",
    "    activities: List[Activity]\n",
    "\n",
    "class TripPlan(BaseModel):\n",
    "    itinerary: List[DayPlan]\n",
    "\n",
    "# parser = PydanticOutputParser(pydantic_object=TripPlan)\n",
    "\n",
    "# chain = gen_itinerary_prompt | llm | StrOutputParser() | extract_itinerary_str | parser\n",
    "\n",
    "# chain.invoke(input_samples[0])"
   ]
  },
  {
   "cell_type": "code",
   "execution_count": 39,
   "metadata": {},
   "outputs": [
    {
     "name": "stdout",
     "output_type": "stream",
     "text": [
      "itinerary=[DayPlan(day=1, date='01/12/2025', activities=[Activity(place='Hoan Kiem Lake', activity='Arrive in Hanoi and take a leisurely stroll around Hoan Kiem Lake, capturing beautiful photos of the scenery.'), Activity(place='Ngoc Son Temple', activity='Visit Ngoc Son Temple located on an island in the lake, a must-see cultural landmark.'), Activity(place='Old Quarter', activity='Explore the Old Quarter, known for its narrow streets, vibrant atmosphere, and unique shops.'), Activity(place='Street Food Tour', activity='Join a street food tour in the evening to taste local delicacies like Pho and Bun Cha.')]), DayPlan(day=2, date='01/13/2025', activities=[Activity(place='Temple of Literature', activity=\"Visit the Temple of Literature, Vietnam's first university, and take photos of its stunning architecture.\"), Activity(place='Vietnam Museum of Ethnology', activity='Explore the Vietnam Museum of Ethnology to learn about the diverse cultures of Vietnam.'), Activity(place='Lunch at Cha Ca Thang Long', activity='Enjoy lunch at Cha Ca Thang Long, famous for its grilled fish.'), Activity(place='Shopping at Dong Xuan Market', activity='Spend the afternoon shopping at Dong Xuan Market for local crafts and souvenirs.'), Activity(place='Water Puppet Show', activity='End the day with a traditional water puppet show, a unique cultural experience.')]), DayPlan(day=3, date='01/14/2025', activities=[Activity(place='Ho Chi Minh Mausoleum', activity='Visit the Ho Chi Minh Mausoleum early in the morning to pay respects to the revolutionary leader.'), Activity(place='One Pillar Pagoda', activity='Explore the One Pillar Pagoda, an iconic cultural landmark.'), Activity(place='Lunch at Bun Thang', activity='Savor a bowl of Bun Thang, a traditional Hanoi noodle soup for lunch.'), Activity(place='Explore West Lake', activity='Take a walk around West Lake, capturing beautiful sunset photos.'), Activity(place='Dinner at KOTO', activity='Enjoy dinner at KOTO, a restaurant that supports disadvantaged youth, and try their famous spring rolls.')]), DayPlan(day=4, date='01/15/2025', activities=[Activity(place='Thang Long Water Puppet Theatre', activity='Visit the Thang Long Water Puppet Theatre for a morning show.'), Activity(place='Shopping at Hang Gai Street', activity='Spend some time shopping for silk products on Hang Gai Street.'), Activity(place='Lunch at Pho Bat Dan', activity='Have lunch at Pho Bat Dan, known for its delicious Pho.'), Activity(place='Explore the French Quarter', activity='Wander through the French Quarter to admire colonial architecture and take photos.'), Activity(place='Departure', activity='Prepare for departure and reflect on your memorable trip.')])]\n"
     ]
    }
   ],
   "source": [
    "from typing import List, Dict\n",
    "\n",
    "def convert_to_trip_plan(raw_data: List[Dict]) -> TripPlan:\n",
    "    \"\"\"\n",
    "    Converts raw trip data into a TripPlan Pydantic model.\n",
    "\n",
    "    Args:\n",
    "        raw_data (List[Dict]): The raw data containing day plans and activities.\n",
    "\n",
    "    Returns:\n",
    "        TripPlan: A Pydantic model representing the trip plan.\n",
    "    \"\"\"\n",
    "    return TripPlan(\n",
    "        itinerary=[\n",
    "            DayPlan(\n",
    "                day=day['day'],\n",
    "                date=day['date'],\n",
    "                activities=[\n",
    "                    Activity(place=activity[0], activity=activity[1]) for activity in day['activities']\n",
    "                ]\n",
    "            )\n",
    "            for day in raw_data\n",
    "        ]\n",
    "    )\n",
    "\n",
    "# Example usage\n",
    "trip_plan = convert_to_trip_plan(itinerary)\n",
    "print(trip_plan)\n"
   ]
  },
  {
   "cell_type": "code",
   "execution_count": 40,
   "metadata": {},
   "outputs": [
    {
     "data": {
      "text/plain": [
       "[DayPlan(day=1, date='01/12/2025', activities=[Activity(place='Hoan Kiem Lake', activity='Arrive in Hanoi and take a leisurely stroll around Hoan Kiem Lake, capturing beautiful photos of the scenery.'), Activity(place='Ngoc Son Temple', activity='Visit Ngoc Son Temple located on an island in the lake, a must-see cultural landmark.'), Activity(place='Old Quarter', activity='Explore the Old Quarter, known for its narrow streets, vibrant atmosphere, and unique shops.'), Activity(place='Street Food Tour', activity='Join a street food tour in the evening to taste local delicacies like Pho and Bun Cha.')]),\n",
       " DayPlan(day=2, date='01/13/2025', activities=[Activity(place='Temple of Literature', activity=\"Visit the Temple of Literature, Vietnam's first university, and take photos of its stunning architecture.\"), Activity(place='Vietnam Museum of Ethnology', activity='Explore the Vietnam Museum of Ethnology to learn about the diverse cultures of Vietnam.'), Activity(place='Lunch at Cha Ca Thang Long', activity='Enjoy lunch at Cha Ca Thang Long, famous for its grilled fish.'), Activity(place='Shopping at Dong Xuan Market', activity='Spend the afternoon shopping at Dong Xuan Market for local crafts and souvenirs.'), Activity(place='Water Puppet Show', activity='End the day with a traditional water puppet show, a unique cultural experience.')]),\n",
       " DayPlan(day=3, date='01/14/2025', activities=[Activity(place='Ho Chi Minh Mausoleum', activity='Visit the Ho Chi Minh Mausoleum early in the morning to pay respects to the revolutionary leader.'), Activity(place='One Pillar Pagoda', activity='Explore the One Pillar Pagoda, an iconic cultural landmark.'), Activity(place='Lunch at Bun Thang', activity='Savor a bowl of Bun Thang, a traditional Hanoi noodle soup for lunch.'), Activity(place='Explore West Lake', activity='Take a walk around West Lake, capturing beautiful sunset photos.'), Activity(place='Dinner at KOTO', activity='Enjoy dinner at KOTO, a restaurant that supports disadvantaged youth, and try their famous spring rolls.')]),\n",
       " DayPlan(day=4, date='01/15/2025', activities=[Activity(place='Thang Long Water Puppet Theatre', activity='Visit the Thang Long Water Puppet Theatre for a morning show.'), Activity(place='Shopping at Hang Gai Street', activity='Spend some time shopping for silk products on Hang Gai Street.'), Activity(place='Lunch at Pho Bat Dan', activity='Have lunch at Pho Bat Dan, known for its delicious Pho.'), Activity(place='Explore the French Quarter', activity='Wander through the French Quarter to admire colonial architecture and take photos.'), Activity(place='Departure', activity='Prepare for departure and reflect on your memorable trip.')])]"
      ]
     },
     "execution_count": 40,
     "metadata": {},
     "output_type": "execute_result"
    }
   ],
   "source": [
    "trip_plan.itinerary"
   ]
  },
  {
   "cell_type": "code",
   "execution_count": 41,
   "metadata": {},
   "outputs": [],
   "source": [
    "# gen_itinerary_prompt | llm | StrOutputParser() | extract_itinerary | convert_to_trip_plan"
   ]
  },
  {
   "cell_type": "code",
   "execution_count": 28,
   "metadata": {},
   "outputs": [],
   "source": [
    "import requests"
   ]
  },
  {
   "cell_type": "code",
   "execution_count": 21,
   "metadata": {},
   "outputs": [],
   "source": [
    "from schemas import UserInput, TripPlan"
   ]
  },
  {
   "cell_type": "code",
   "execution_count": 22,
   "metadata": {},
   "outputs": [
    {
     "data": {
      "text/plain": [
       "UserInput(destination='Hanoi', trip_type='solo trip', with_pets=False, interests=['must-see attraction', 'cultural landmarks', 'great food', 'hidden gems', 'shopping'], other_interests='Photography', duration=4, start_date='01/12/2025', end_date='01/16/2025')"
      ]
     },
     "execution_count": 22,
     "metadata": {},
     "output_type": "execute_result"
    }
   ],
   "source": [
    "user_input = UserInput(\n",
    "    destination='Hanoi',\n",
    "    trip_type='solo trip',\n",
    "    with_pets=False,\n",
    "    interests=['must-see attraction', 'cultural landmarks', 'great food', 'hidden gems', 'shopping'],\n",
    "    other_interests='Photography',\n",
    "    duration=4,\n",
    "    start_date='01/12/2025',\n",
    "    end_date='01/16/2025'\n",
    ")\n",
    "user_input\n"
   ]
  },
  {
   "cell_type": "code",
   "execution_count": 23,
   "metadata": {},
   "outputs": [],
   "source": [
    "import json"
   ]
  },
  {
   "cell_type": "code",
   "execution_count": 24,
   "metadata": {},
   "outputs": [
    {
     "data": {
      "text/plain": [
       "{'destination': 'Hanoi',\n",
       " 'trip_type': 'solo trip',\n",
       " 'with_pets': False,\n",
       " 'interests': ['must-see attraction',\n",
       "  'cultural landmarks',\n",
       "  'great food',\n",
       "  'hidden gems',\n",
       "  'shopping'],\n",
       " 'other_interests': 'Photography',\n",
       " 'duration': 4,\n",
       " 'start_date': '01/12/2025',\n",
       " 'end_date': '01/16/2025'}"
      ]
     },
     "execution_count": 24,
     "metadata": {},
     "output_type": "execute_result"
    }
   ],
   "source": [
    "user_input.dict()"
   ]
  },
  {
   "cell_type": "code",
   "execution_count": 38,
   "metadata": {},
   "outputs": [],
   "source": [
    "\n",
    "def send_requests(user_input: UserInput):\n",
    "    # response = requests.post(\"http://127.0.0.1:8000/generate-itinerary/\", params={\"user_input\": user_input})\n",
    "    response = requests.post(\"http://127.0.0.1:8000/generate-itinerary/\", data=user_input.json())\n",
    "    return response.json() if response.status_code == 200 else {\"status\": \"Error\", \"message\": \"Backend not reachable\"}"
   ]
  },
  {
   "cell_type": "code",
   "execution_count": 39,
   "metadata": {},
   "outputs": [
    {
     "data": {
      "text/plain": [
       "{'itinerary': [{'day': 1,\n",
       "   'date': '01/12/2025',\n",
       "   'activities': [{'place': 'Hoan Kiem Lake',\n",
       "     'activity': 'Arrive in Hanoi and take a leisurely stroll around Hoan Kiem Lake, a must-see attraction.'},\n",
       "    {'place': 'Ngoc Son Temple',\n",
       "     'activity': 'Visit Ngoc Son Temple located on an island in the lake.'},\n",
       "    {'place': 'Old Quarter',\n",
       "     'activity': 'Explore the Old Quarter for shopping and hidden gems.'},\n",
       "    {'place': 'Street Food Tour',\n",
       "     'activity': 'Join a street food tour in the evening to taste local delicacies.'}]},\n",
       "  {'day': 2,\n",
       "   'date': '01/13/2025',\n",
       "   'activities': [{'place': 'Ho Chi Minh Mausoleum',\n",
       "     'activity': \"Visit the Ho Chi Minh Mausoleum and learn about Vietnam's history.\"},\n",
       "    {'place': 'One Pillar Pagoda',\n",
       "     'activity': 'Explore the One Pillar Pagoda, a cultural landmark.'},\n",
       "    {'place': 'Vietnamese Coffee',\n",
       "     'activity': 'Enjoy a traditional Vietnamese coffee at a local café.'},\n",
       "    {'place': 'Dong Xuan Market',\n",
       "     'activity': 'Shop for souvenirs and local products at Dong Xuan Market.'}]},\n",
       "  {'day': 3,\n",
       "   'date': '01/14/2025',\n",
       "   'activities': [{'place': 'Temple of Literature',\n",
       "     'activity': \"Visit the Temple of Literature, Vietnam's first university.\"},\n",
       "    {'place': 'Vietnam Museum of Ethnology',\n",
       "     'activity': 'Explore the Vietnam Museum of Ethnology to learn about diverse cultures.'},\n",
       "    {'place': 'Lunch at Cha Ca La Vong',\n",
       "     'activity': 'Have lunch at Cha Ca La Vong, famous for its grilled fish.'},\n",
       "    {'place': 'Photography Walk',\n",
       "     'activity': 'Take a photography walk around the West Lake area in the evening.'}]},\n",
       "  {'day': 4,\n",
       "   'date': '01/15/2025',\n",
       "   'activities': [{'place': 'Thang Long Water Puppet Theatre',\n",
       "     'activity': 'Attend a water puppet show in the morning.'},\n",
       "    {'place': 'Shopping in the Old Quarter',\n",
       "     'activity': 'Spend the afternoon shopping for unique handicrafts.'},\n",
       "    {'place': 'Bun Cha Huong Lien',\n",
       "     'activity': 'Enjoy dinner at Bun Cha Huong Lien, known for its bun cha.'},\n",
       "    {'place': 'Night Market',\n",
       "     'activity': 'Explore the night market for local snacks and souvenirs.'}]}]}"
      ]
     },
     "execution_count": 39,
     "metadata": {},
     "output_type": "execute_result"
    }
   ],
   "source": [
    "response = send_requests(user_input)\n",
    "response"
   ]
  },
  {
   "cell_type": "code",
   "execution_count": 40,
   "metadata": {},
   "outputs": [
    {
     "data": {
      "text/plain": [
       "4"
      ]
     },
     "execution_count": 40,
     "metadata": {},
     "output_type": "execute_result"
    }
   ],
   "source": [
    "len(response['itinerary'])"
   ]
  },
  {
   "cell_type": "code",
   "execution_count": 36,
   "metadata": {},
   "outputs": [
    {
     "data": {
      "text/plain": [
       "{'itinerary': [{'day': 1,\n",
       "   'date': '01/12/2025',\n",
       "   'activities': [{'place': 'Hoan Kiem Lake',\n",
       "     'activity': 'Arrive in Hanoi and take a leisurely stroll around Hoan Kiem Lake, a must-see attraction.'},\n",
       "    {'place': 'Ngoc Son Temple',\n",
       "     'activity': 'Visit Ngoc Son Temple located on an island in the lake.'},\n",
       "    {'place': 'Old Quarter',\n",
       "     'activity': 'Explore the vibrant streets of the Old Quarter, perfect for photography and shopping.'},\n",
       "    {'place': 'Street Food Tour',\n",
       "     'activity': 'Join a street food tour in the evening to sample local delicacies like Pho and Bun Cha.'}]},\n",
       "  {'day': 2,\n",
       "   'date': '01/13/2025',\n",
       "   'activities': [{'place': 'Temple of Literature',\n",
       "     'activity': \"Visit the Temple of Literature, Vietnam's first university and a cultural landmark.\"},\n",
       "    {'place': 'Vietnam Museum of Ethnology',\n",
       "     'activity': 'Explore the Vietnam Museum of Ethnology to learn about the diverse cultures of Vietnam.'},\n",
       "    {'place': 'Lunch at Cha Ca La Vong',\n",
       "     'activity': 'Enjoy lunch at Cha Ca La Vong, famous for its grilled fish.'},\n",
       "    {'place': 'West Lake',\n",
       "     'activity': 'Take a walk around West Lake and capture beautiful sunset photos.'}]},\n",
       "  {'day': 3,\n",
       "   'date': '01/14/2025',\n",
       "   'activities': [{'place': 'Hoa Lo Prison',\n",
       "     'activity': \"Visit the historic Hoa Lo Prison for a glimpse into Vietnam's past.\"},\n",
       "    {'place': \"St. Joseph's Cathedral\",\n",
       "     'activity': \"Take photos of St. Joseph's Cathedral, a stunning example of French colonial architecture.\"},\n",
       "    {'place': 'Shopping at Dong Xuan Market',\n",
       "     'activity': 'Shop for local handicrafts and souvenirs at Dong Xuan Market.'},\n",
       "    {'place': 'Dinner at a Local Restaurant',\n",
       "     'activity': 'Enjoy dinner at a local restaurant, trying dishes like Bun Thang.'}]},\n",
       "  {'day': 4,\n",
       "   'date': '01/15/2025',\n",
       "   'activities': [{'place': 'Ba Dinh Square',\n",
       "     'activity': 'Visit Ba Dinh Square and see the Ho Chi Minh Mausoleum.'},\n",
       "    {'place': 'One Pillar Pagoda',\n",
       "     'activity': 'Explore the unique One Pillar Pagoda nearby.'},\n",
       "    {'place': 'Lunch at a Local Eatery',\n",
       "     'activity': 'Have lunch at a local eatery, sampling more Vietnamese cuisine.'},\n",
       "    {'place': 'Photography at Long Bien Bridge',\n",
       "     'activity': 'Spend the afternoon photographing Long Bien Bridge, a hidden gem.'},\n",
       "    {'place': 'Departure',\n",
       "     'activity': 'Prepare for departure, reflecting on your memorable trip.'}]}]}"
      ]
     },
     "execution_count": 36,
     "metadata": {},
     "output_type": "execute_result"
    }
   ],
   "source": [
    "response.json()"
   ]
  },
  {
   "cell_type": "code",
   "execution_count": 19,
   "metadata": {},
   "outputs": [
    {
     "ename": "NameError",
     "evalue": "name 'requests' is not defined",
     "output_type": "error",
     "traceback": [
      "\u001b[1;31m---------------------------------------------------------------------------\u001b[0m",
      "\u001b[1;31mNameError\u001b[0m                                 Traceback (most recent call last)",
      "Cell \u001b[1;32mIn[19], line 1\u001b[0m\n\u001b[1;32m----> 1\u001b[0m response \u001b[38;5;241m=\u001b[39m \u001b[43mrequests\u001b[49m\u001b[38;5;241m.\u001b[39mpost(\u001b[38;5;124m\"\u001b[39m\u001b[38;5;124mhttp://127.0.0.1:8000/test-post/\u001b[39m\u001b[38;5;124m\"\u001b[39m, params\u001b[38;5;241m=\u001b[39m{\u001b[38;5;124m\"\u001b[39m\u001b[38;5;124mmessage\u001b[39m\u001b[38;5;124m\"\u001b[39m: \u001b[38;5;124m\"\u001b[39m\u001b[38;5;124mHello\u001b[39m\u001b[38;5;124m\"\u001b[39m})\n\u001b[0;32m      2\u001b[0m response\u001b[38;5;241m.\u001b[39mjson()\n",
      "\u001b[1;31mNameError\u001b[0m: name 'requests' is not defined"
     ]
    }
   ],
   "source": [
    "response = requests.post(\"http://127.0.0.1:8000/test-post/\", params={\"message\": \"Hello\"})\n",
    "response.json()"
   ]
  },
  {
   "cell_type": "code",
   "execution_count": 1,
   "metadata": {},
   "outputs": [],
   "source": [
    "from chains import get_itinerary, get_gen_itinerary_chain\n",
    "from utils import input_samples\n"
   ]
  },
  {
   "cell_type": "code",
   "execution_count": 2,
   "metadata": {},
   "outputs": [],
   "source": [
    "# get_gen_itinerary_chain().invoke(input_samples[0])"
   ]
  },
  {
   "cell_type": "code",
   "execution_count": 3,
   "metadata": {},
   "outputs": [
    {
     "data": {
      "text/plain": [
       "{'destination': 'Hanoi',\n",
       " 'trip_type': 'solo trip',\n",
       " 'with_pets': 'No',\n",
       " 'interests': ['must-see attraction',\n",
       "  'cultural landmarks',\n",
       "  'great food',\n",
       "  'hidden gems',\n",
       "  'shopping'],\n",
       " 'other_interests': 'Photography',\n",
       " 'duration': '4 days',\n",
       " 'start_date': '01/12/2025',\n",
       " 'end_date': '01/16/2025'}"
      ]
     },
     "execution_count": 3,
     "metadata": {},
     "output_type": "execute_result"
    }
   ],
   "source": [
    "input_samples[0]"
   ]
  },
  {
   "cell_type": "code",
   "execution_count": 5,
   "metadata": {},
   "outputs": [],
   "source": [
    "trip_plan = get_itinerary(input_samples[0])"
   ]
  },
  {
   "cell_type": "code",
   "execution_count": 18,
   "metadata": {},
   "outputs": [
    {
     "data": {
      "text/plain": [
       "{'itinerary': [{'day': 1,\n",
       "   'date': '01/12/2025',\n",
       "   'activities': [{'place': 'Hoan Kiem Lake',\n",
       "     'activity': 'Arrive in Hanoi and take a leisurely stroll around Hoan Kiem Lake, a must-see attraction.'},\n",
       "    {'place': 'Ngoc Son Temple',\n",
       "     'activity': 'Visit Ngoc Son Temple located on an island in the lake.'},\n",
       "    {'place': 'Old Quarter',\n",
       "     'activity': 'Explore the Old Quarter for shopping and hidden gems.'},\n",
       "    {'place': 'Street Food Tour',\n",
       "     'activity': 'Join a street food tour to taste local delicacies like Pho and Bun Cha.'},\n",
       "    {'place': 'Photography',\n",
       "     'activity': 'Capture the vibrant street life and architecture of the Old Quarter.'}]},\n",
       "  {'day': 2,\n",
       "   'date': '01/13/2025',\n",
       "   'activities': [{'place': 'Temple of Literature',\n",
       "     'activity': \"Visit the Temple of Literature, a cultural landmark and Vietnam's first university.\"},\n",
       "    {'place': 'Vietnam Fine Arts Museum',\n",
       "     'activity': 'Explore the Vietnam Fine Arts Museum to appreciate local art.'},\n",
       "    {'place': 'Lunch at Cha Ca Thang Long',\n",
       "     'activity': 'Enjoy lunch at Cha Ca Thang Long, famous for its grilled fish.'},\n",
       "    {'place': 'West Lake',\n",
       "     'activity': 'Take a walk around West Lake and visit Tran Quoc Pagoda.'},\n",
       "    {'place': 'Photography',\n",
       "     'activity': 'Photograph the beautiful sunset over West Lake.'}]},\n",
       "  {'day': 3,\n",
       "   'date': '01/14/2025',\n",
       "   'activities': [{'place': 'Ho Chi Minh Mausoleum',\n",
       "     'activity': \"Visit the Ho Chi Minh Mausoleum and learn about Vietnam's history.\"},\n",
       "    {'place': 'One Pillar Pagoda',\n",
       "     'activity': 'See the iconic One Pillar Pagoda nearby.'},\n",
       "    {'place': 'Lunch at KOTO',\n",
       "     'activity': 'Have lunch at KOTO, a restaurant that trains disadvantaged youth.'},\n",
       "    {'place': 'Vietnamese Coffee Experience',\n",
       "     'activity': 'Experience a traditional Vietnamese coffee at a local café.'},\n",
       "    {'place': 'Shopping at Dong Xuan Market',\n",
       "     'activity': 'Shop for souvenirs and local handicrafts at Dong Xuan Market.'}]},\n",
       "  {'day': 4,\n",
       "   'date': '01/15/2025',\n",
       "   'activities': [{'place': 'Bat Trang Pottery Village',\n",
       "     'activity': 'Take a day trip to Bat Trang Pottery Village to see traditional pottery making.'},\n",
       "    {'place': 'Lunch at a local eatery',\n",
       "     'activity': 'Enjoy lunch at a local eatery in Bat Trang.'},\n",
       "    {'place': 'Return to Hanoi',\n",
       "     'activity': 'Return to Hanoi and visit the Hoa Lo Prison Museum.'},\n",
       "    {'place': 'Dinner at a rooftop restaurant',\n",
       "     'activity': 'Have dinner at a rooftop restaurant with views of the city.'},\n",
       "    {'place': 'Photography',\n",
       "     'activity': 'Capture the night lights of Hanoi from the rooftop.'}]},\n",
       "  {'day': 5,\n",
       "   'date': '01/16/2025',\n",
       "   'activities': [{'place': 'Last-minute shopping',\n",
       "     'activity': 'Spend your last morning shopping for any remaining souvenirs.'},\n",
       "    {'place': 'Banh Cuon Gia Truyen',\n",
       "     'activity': 'Enjoy breakfast at Banh Cuon Gia Truyen for delicious rice rolls.'},\n",
       "    {'place': 'Check-out',\n",
       "     'activity': 'Check out from your accommodation and prepare for departure.'}]}]}"
      ]
     },
     "execution_count": 18,
     "metadata": {},
     "output_type": "execute_result"
    }
   ],
   "source": [
    "trip_plan.dict()"
   ]
  },
  {
   "cell_type": "code",
   "execution_count": null,
   "metadata": {},
   "outputs": [],
   "source": []
  },
  {
   "cell_type": "code",
   "execution_count": 43,
   "metadata": {},
   "outputs": [
    {
     "name": "stdout",
     "output_type": "stream",
     "text": [
      "Thursday\n"
     ]
    }
   ],
   "source": [
    "import datetime\n",
    "\n",
    "# Example date object\n",
    "date_object = datetime.date(2024, 11, 21)\n",
    "\n",
    "# Get day of the week\n",
    "day_of_week = date_object.strftime(\"%A\")\n",
    "print(day_of_week)\n"
   ]
  },
  {
   "cell_type": "code",
   "execution_count": 42,
   "metadata": {},
   "outputs": [
    {
     "data": {
      "text/plain": [
       "datetime.datetime(2023, 11, 21, 0, 0)"
      ]
     },
     "execution_count": 42,
     "metadata": {},
     "output_type": "execute_result"
    }
   ],
   "source": [
    "date_object"
   ]
  },
  {
   "cell_type": "code",
   "execution_count": null,
   "metadata": {},
   "outputs": [],
   "source": []
  }
 ],
 "metadata": {
  "kernelspec": {
   "display_name": "env-01",
   "language": "python",
   "name": "python3"
  },
  "language_info": {
   "codemirror_mode": {
    "name": "ipython",
    "version": 3
   },
   "file_extension": ".py",
   "mimetype": "text/x-python",
   "name": "python",
   "nbconvert_exporter": "python",
   "pygments_lexer": "ipython3",
   "version": "3.11.10"
  }
 },
 "nbformat": 4,
 "nbformat_minor": 2
}
